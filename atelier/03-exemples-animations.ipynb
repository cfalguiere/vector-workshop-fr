{
 "cells": [
  {
   "cell_type": "markdown",
   "metadata": {},
   "source": [
    "# Jouer les animations de Vector\n",
    "\n",
    "Cette suite d'exemples va te montrer comment utiliser les animatitons de Vector. \n",
    "\n",
    "Les animations sont des suites de mouvements, changements du visage, des lumières et de sons utilisés par Vector pour exprimer une émotion ou une réaction.\n",
    "\n",
    "Ce document contient des cellules grises pour le code et des instructions.\n",
    "\n",
    "Pour lancer les programmes dans les cellules grises, il faut \n",
    "- sélectionner la cellule avec la souris (une barre verte apparaît sur le côté)\n",
    "- puis utiliser le bouton *Run* dans le menu en haut ou la combinaison de touches Ctrl+Enter. Il faut appuyer en même temps sur les touches Ctrl (ou control) et Enter (ou Entrée ou &#8629;) \n",
    "\n",
    "Assure toi que Vector a assez de place pour se déplacer avant de commencer."
   ]
  },
  {
   "cell_type": "markdown",
   "metadata": {},
   "source": [
    "## 1 - Démo Animation\n",
    "\n",
    "Le programme suivant joue des animations.\n",
    "\n",
    "Les animations contrôlent la tête, le bras, les roues, l'écran, le son et la lumière du dos.\n",
    "\n",
    "Deux instructions sont prévues pour jouer les animations :\n",
    "- *play_animation_trigger* demande de jouer une des animations d'un type donné\n",
    "- *play_animation* demande de jouer une animation précise\n"
   ]
  },
  {
   "cell_type": "code",
   "execution_count": null,
   "metadata": {},
   "outputs": [],
   "source": [
    "\"\"\"\n",
    "Play animations on Vector\n",
    "\n",
    "Play an animation using a trigger, and then another animation by name.\n",
    "\"\"\"\n",
    "import anki_vector\n",
    "with anki_vector.Robot() as robot:\n",
    "    robot.behavior.drive_off_charger()\n",
    "\n",
    "    # Play an animation via a trigger.\n",
    "    # A trigger can pick from several appropriate animations for variety.\n",
    "    print(\"Playing Animation Trigger 1:\")\n",
    "    robot.anim.play_animation_trigger('GreetAfterLongTime')\n",
    "\n",
    "    # Play the same trigger, but this time ignore the track that plays on the\n",
    "    # body (i.e. don't move the wheels). See the play_animation_trigger documentation\n",
    "    # for other available settings.\n",
    "    print(\"Playing Animation Trigger 2: (Ignoring the body track)\")\n",
    "    robot.anim.play_animation_trigger('GreetAfterLongTime', ignore_body_track=True)\n",
    "\n",
    "    # Play an animation via its name.\n",
    "    #\n",
    "    # Warning: Future versions of the app might change these, so for future-proofing\n",
    "    # we recommend using play_animation_trigger above instead.\n",
    "    #\n",
    "    # See the remote_control.py example in apps for an easy way to see\n",
    "    # the available animations.\n",
    "    animation = 'anim_pounce_success_02'\n",
    "    print(\"Playing animation by name: \" + animation)\n",
    "    robot.anim.play_animation(animation)\n",
    "\n",
    "print(\"C'est fait !\")\n"
   ]
  },
  {
   "cell_type": "markdown",
   "metadata": {},
   "source": [
    "## 2 - Afficher la liste des animations\n",
    "\n",
    "Les instructions *anim_list_triggers* et *anim_list* affichent la liste des animations"
   ]
  },
  {
   "cell_type": "code",
   "execution_count": null,
   "metadata": {},
   "outputs": [],
   "source": [
    "import anki_vector\n",
    "\n",
    "with anki_vector.Robot() as robot:\n",
    "    print(\"List all animation trigger names:\")\n",
    "    anim_trigger_names = robot.anim.anim_trigger_list\n",
    "    for anim_trigger_name in anim_trigger_names:\n",
    "        print(anim_trigger_name)"
   ]
  },
  {
   "cell_type": "code",
   "execution_count": null,
   "metadata": {},
   "outputs": [],
   "source": [
    "import anki_vector\n",
    "\n",
    "with anki_vector.Robot() as robot:\n",
    "    print(\"List all animation names:\")\n",
    "    anim_names = robot.anim.anim_list\n",
    "    for anim_name in anim_names:\n",
    "        print(anim_name)\n",
    "\n"
   ]
  },
  {
   "cell_type": "markdown",
   "metadata": {},
   "source": [
    "## 3 - Joue des animations\n",
    "\n",
    "Choisit une animation dans la liste des animation trigger names et remplace GreetAfterLongTime.\n",
    "\n",
    "Tu peux jouer plusieurs fois la même animation pour voir les variantes. Observe le robot et comment il utilise les moteurs, les sons et l'écran pour jouer l'animation."
   ]
  },
  {
   "cell_type": "code",
   "execution_count": null,
   "metadata": {},
   "outputs": [],
   "source": [
    "import anki_vector\n",
    "with anki_vector.Robot() as robot:\n",
    "    robot.anim.play_animation_trigger( ____ )\n",
    "\n",
    "print(\"C'est fait !\")"
   ]
  },
  {
   "cell_type": "code",
   "execution_count": null,
   "metadata": {},
   "outputs": [],
   "source": []
  }
 ],
 "metadata": {
  "kernelspec": {
   "display_name": "Python 3",
   "language": "python",
   "name": "python3"
  },
  "language_info": {
   "codemirror_mode": {
    "name": "ipython",
    "version": 3
   },
   "file_extension": ".py",
   "mimetype": "text/x-python",
   "name": "python",
   "nbconvert_exporter": "python",
   "pygments_lexer": "ipython3",
   "version": "3.6.8"
  },
  "tags": [
   "hide_input"
  ]
 },
 "nbformat": 4,
 "nbformat_minor": 2
}
