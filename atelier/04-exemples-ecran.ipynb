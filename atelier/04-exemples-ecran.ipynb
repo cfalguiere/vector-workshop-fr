{
 "cells": [
  {
   "cell_type": "markdown",
   "metadata": {},
   "source": [
    "# Utiliser l'écran de Vector\n",
    "\n",
    "Cette suite d'exemples va te montrer comment utiliser l'écran de Vector.\n",
    "\n",
    "Ce document contient des cellules grises pour le code et des instructions.\n",
    "\n",
    "Pour lancer les programmes dans les cellules grises, il faut \n",
    "- sélectionner la cellule avec la souris (une barre verte apparaît sur le côté)\n",
    "- puis utiliser le bouton *Run* dans le menu en haut ou la combinaison de touches Ctrl+Enter. Il faut appuyer en même temps sur les touches Ctrl (ou control) et Enter (ou Entrée ou &#8629;) \n",
    "\n",
    "Place Vector de telle sorte que tu vois l'écran."
   ]
  },
  {
   "cell_type": "markdown",
   "metadata": {},
   "source": [
    "## 1 - Démo crazy eyes\n",
    "\n",
    "Cet exemple va rendre les yeux de Vector complètement fous"
   ]
  },
  {
   "cell_type": "code",
   "execution_count": null,
   "metadata": {},
   "outputs": [],
   "source": [
    "import time\n",
    "import anki_vector\n",
    "import random\n",
    "\n",
    "with anki_vector.Robot() as robot:\n",
    "    robot.behavior.set_head_angle(degrees(45.0))\n",
    "    robot.behavior.set_lift_height(0.0)\n",
    "    for _ in range(100) :\n",
    "        robot.behavior.set_eye_color(hue=random.uniform(0, 1), saturation=random.uniform(0, 1))\n",
    "        time.sleep(0.05)\n",
    "    robot.behavior.set_eye_color(hue=0.21, saturation=1.0)\n",
    " \n",
    "print(\"C'est fait !\")\n"
   ]
  },
  {
   "cell_type": "markdown",
   "metadata": {},
   "source": [
    "## 2 - Changer la couleur des yeux\n",
    "\n",
    "Cet exemple change la couleur des yeux de Vector.\n",
    "\n",
    "La couleur des yeux est indiquée par 2 paramètres\n",
    "- hue qui indique une teinte par des valeurs entre 0 et 1\n",
    "- saturation qui indique si la couleur est plus ou moins dense\n",
    "\n",
    "Ce système de codification des couleurs s'appelle HSL pour Hue Saturation Lightness.\n",
    "\n",
    "Le schéma ci-dessous représente la roue des couleurs du système HSL (sur 360°) et le tableau donne quelques exemples de couleurs :\n",
    "<div style=\"float:left;\">\n",
    "    <img src=\"images/hue.png\"/>\n",
    "</div>\n",
    "\n",
    "| Couleur | Hue | Saturation |\n",
    "| :------ | --- | ---------- |\n",
    "| Teal (bleu-vert)| 0.42 | 1.00 |\n",
    "| Orange | 0.05 | 0.95 |\n",
    "| Yellow | 0.11 | 1.00 |\n",
    "| Lime | 0.21 | 1.00 |\n",
    "| Sapphire | 0.57 | 1.00 |\n",
    "| Purple | 0.83 | 0.76|\n",
    "\n",
    "<div style=\"clear:left;\">\n",
    "</div>\n",
    "\n",
    "Dans cette démo les yeux de Vector vont passer par toutes les couleurs\n"
   ]
  },
  {
   "cell_type": "code",
   "execution_count": null,
   "metadata": {},
   "outputs": [],
   "source": [
    "import time\n",
    "import anki_vector\n",
    "import random\n",
    "\n",
    "with anki_vector.Robot() as robot:\n",
    "    robot.behavior.set_head_angle(degrees(45.0))\n",
    "    robot.behavior.set_lift_height(0.0)\n",
    "    for a in range(360) :\n",
    "        #obot.behavior.set_eye_color(hue=random.uniform(0, 1), saturation=random.uniform(0, 1))\n",
    "        robot.behavior.set_eye_color(hue=a/360, saturation=1)\n",
    "        time.sleep(0.02)\n",
    "    robot.behavior.set_eye_color(hue=0.21, saturation=1.0)\n",
    " \n",
    "print(\"C'est fait !\")\n"
   ]
  },
  {
   "cell_type": "markdown",
   "metadata": {},
   "source": [
    "## 3 - Changer la couleur des yeux\n",
    "\n",
    "Utilise cet exemple et essaie différentes couleurs."
   ]
  },
  {
   "cell_type": "code",
   "execution_count": null,
   "metadata": {},
   "outputs": [],
   "source": [
    "\"\"\"Set Vector's eye color.\n",
    "\"\"\"\n",
    "import time\n",
    "import anki_vector\n",
    "\n",
    "with anki_vector.Robot() as robot:\n",
    "    print(\"Change la couleur des yeux pour violet ...\")\n",
    "    robot.behavior.set_eye_color(hue=0.83, saturation=0.76)\n",
    "\n",
    "    print(\"Sleep 5 seconds...\")\n",
    "    time.sleep(5)\n",
    "\n",
    "print(\"C'est fait !\")\n"
   ]
  },
  {
   "cell_type": "markdown",
   "metadata": {},
   "source": [
    "## 4 - Afficher une image\n",
    "\n",
    "Cet exemple montre comment afficher une image sur l'écran de Vector.\n",
    "\n",
    "L'image que l'on va utiliser se trouve dans le dossier images."
   ]
  },
  {
   "cell_type": "code",
   "execution_count": null,
   "metadata": {
    "scrolled": true
   },
   "outputs": [],
   "source": [
    "import os\n",
    "import sys\n",
    "import time\n",
    "\n",
    "try:\n",
    "    from PIL import Image\n",
    "except ImportError:\n",
    "    sys.exit(\"Cannot import from PIL: Do `pip3 install --user Pillow` to install\")\n",
    "\n",
    "import anki_vector\n",
    "from anki_vector.util import degrees\n",
    "\n",
    "with anki_vector.Robot()  as robot:\n",
    "    # If necessary, move Vector's Head and Lift to make it easy to see his face\n",
    "    robot.behavior.set_head_angle(degrees(45.0))\n",
    "    robot.behavior.set_lift_height(0.0)\n",
    "\n",
    "    image_path = os.path.join(os.getcwd(), \"images\", \"cozmo_image.jpg\")\n",
    "\n",
    "    # Load an image\n",
    "    image_file = Image.open(image_path)\n",
    "\n",
    "    # Convert the image to the format used by the Screen\n",
    "    print(\"Display image on Vector's face...\")\n",
    "    screen_data = anki_vector.screen.convert_image_to_screen_data(image_file)\n",
    "\n",
    "    duration_s = 4.0\n",
    "    robot.screen.set_screen_with_image_data(screen_data, duration_s)\n",
    "    time.sleep(duration_s)\n",
    "\n",
    "print(\"C'est fait !\")\n"
   ]
  },
  {
   "cell_type": "markdown",
   "metadata": {},
   "source": [
    "## 5 - Dessiner une image sur l'écran\n",
    "\n",
    "Dans cet exemple, on va construire une image et l'afficher.\n",
    "\n",
    "Une image est une liste de pixels à afficher sur l'écran. Chaque pixel est représenté par 3 nombres qui indiquent la quantité de Rouge, de Vert et de Bleu. Ce système de codification des couleurs s'appelle RGB pour Red-Green-Blue.\n",
    "\n",
    "Au début du programme, construit une liste qui contient tous les pixels de la première ligne, puis tous ceux de deuxième ligne, ...\n",
    "\n",
    "Au moment d'afficher l'image, il faut indiquer la largeur (le nombre de pixels sur chaque lignes) et la hauteur (le nomreb de lignes)."
   ]
  },
  {
   "cell_type": "code",
   "execution_count": null,
   "metadata": {},
   "outputs": [],
   "source": [
    "import anki_vector\n",
    "from anki_vector.screen import convert_pixels_to_screen_data\n",
    "from PIL import Image\n",
    "pixel_data = [ ]\n",
    "width = 184\n",
    "height = 96\n",
    "for y in range(height) :\n",
    "    for x in range(width) :\n",
    "        if x < 62: pixel_data.append([ 255, 0, 0])\n",
    "        elif x > 121: pixel_data.append([ 0, 0, 255])\n",
    "        else: pixel_data.append([ 255, 255, 255])\n",
    "            \n",
    "# pixel_data sequence of triplets representing rgb values, should be ints from 0-255\n",
    "with anki_vector.Robot()  as robot:\n",
    "    # If necessary, move Vector's Head and Lift to make it easy to see his face\n",
    "    robot.behavior.set_head_angle(degrees(45.0))\n",
    "    robot.behavior.set_lift_height(0.0)\n",
    "    # affiche l'image\n",
    "    screen_data = anki_vector.screen.convert_pixels_to_screen_data(pixel_data, width, height)\n",
    "    robot.screen.set_screen_with_image_data(screen_data, duration_s)\n",
    "    time.sleep(4)\n",
    "\n",
    "print(\"C'est fait !\")"
   ]
  },
  {
   "cell_type": "markdown",
   "metadata": {},
   "source": [
    "## 6 - Afficher les photos de Vector\n",
    "\n",
    "Cet exemple affiche les photos que Vector a prises.\n",
    "\n",
    "Pour demander à Vector de prendre une photo, il faut lui dire \"Hey Vector! Take a photo\""
   ]
  },
  {
   "cell_type": "code",
   "execution_count": null,
   "metadata": {},
   "outputs": [],
   "source": [
    "\"\"\"Show a photo taken by Vector.\n",
    "\n",
    "Grabs the pictures off of Vector and open them via PIL.\n",
    "\n",
    "Before running this script, please make sure you have successfully\n",
    "had Vector take a photo by saying, \"Hey Vector! Take a photo.\"\n",
    "\"\"\"\n",
    "\n",
    "import io\n",
    "import sys\n",
    "import anki_vector\n",
    "from PIL import Image\n",
    "# seulement pour affichage dans jupyter\n",
    "from IPython.display import display \n",
    "\n",
    "with anki_vector.Robot() as robot:\n",
    "    if len(robot.photos.photo_info) == 0:\n",
    "        print(\"ATTENTION: Vector n'a pas trouvé de photo\")\n",
    "        print(\"Demande lui de prendre une photo en disant 'Hey Vector! Take a photo.'\")\n",
    "    for photo in robot.photos.photo_info:\n",
    "        print(f\"Opening photo {photo.photo_id}\")\n",
    "        val = robot.photos.get_photo(photo.photo_id)\n",
    "        image = Image.open(io.BytesIO(val.image))\n",
    "        # affichage dans Jupyter\n",
    "        display(image)\n",
    "        # affichage dans une fenêtre hors Jupyter\n",
    "        # image.show()\n",
    "        \n",
    "print(\"C'est fait !\")\n"
   ]
  }
 ],
 "metadata": {
  "kernelspec": {
   "display_name": "Python 3",
   "language": "python",
   "name": "python3"
  },
  "language_info": {
   "codemirror_mode": {
    "name": "ipython",
    "version": 3
   },
   "file_extension": ".py",
   "mimetype": "text/x-python",
   "name": "python",
   "nbconvert_exporter": "python",
   "pygments_lexer": "ipython3",
   "version": "3.6.8"
  },
  "tags": [
   "hide_input"
  ]
 },
 "nbformat": 4,
 "nbformat_minor": 2
}
