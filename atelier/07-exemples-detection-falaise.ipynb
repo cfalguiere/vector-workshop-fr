{
 "cells": [
  {
   "cell_type": "markdown",
   "metadata": {},
   "source": [
    "## Vector s'arrête avant de tomber dans le vide\n",
    "\n",
    "Cette suite d'exemples va te montrer comment détecter le bord d'un table et arrêter Vector avant de tomber.\n",
    "\n",
    "Ce document contient des cellules grises pour le code et des instructions.\n",
    "\n",
    "Pour lancer les programmes dans les cellules grises, il faut \n",
    "- sélectionner la cellule avec la souris (une barre verte apparaît sur le côté)\n",
    "- puis utiliser le bouton *Run* dans le menu en haut ou la combinaison de touches Ctrl+Enter. Il faut appuyer en même temps sur les touches Ctrl (ou control) et Enter (ou Entrée ou &#8629;) "
   ]
  },
  {
   "cell_type": "markdown",
   "metadata": {},
   "source": [
    "## 1 - Démo"
   ]
  },
  {
   "cell_type": "markdown",
   "metadata": {},
   "source": [
    "Place le robot dans le chargeur à environ 20 cm d'un bord de table."
   ]
  },
  {
   "cell_type": "markdown",
   "metadata": {},
   "source": [
    "--- A traduire ---\n",
    "\n",
    "Make Vector drive to a cliff and back up.\n",
    "\n",
    "Place the robot about a foot from a \"cliff\" (such as a tabletop edge),\n",
    "then run this script.\n",
    "\n",
    "This tutorial is an advanced example that shows the SDK's integration\n",
    "with the Vector behavior system.\n",
    "\n",
    "The Vector behavior system uses an order of prioritizations to determine\n",
    "what the robot will do next. The highest priorities in the behavior\n",
    "system including the following:\n",
    "* When Vector reaches a cliff, he will back up to avoid falling.\n",
    "* When Vector is low on battery, he will start searching for his charger\n",
    "and self-dock.\n",
    "\n",
    "When the SDK is running at a lower priority level than high priorities\n",
    "like cliff and low battery, an SDK program can lose its ability to\n",
    "control the robot when a cliff if reached or when battery is low.\n",
    "\n",
    "This example shows how, after reaching a cliff, the SDK program can\n",
    "re-request control so it can continue controlling the robot after\n",
    "reaching the cliff.\n"
   ]
  },
  {
   "cell_type": "code",
   "execution_count": 1,
   "metadata": {},
   "outputs": [
    {
     "name": "stderr",
     "output_type": "stream",
     "text": [
      "20:59:10.276               robot.Robot WARNING  No serial number or name provided. Automatically selecting 00303453\n",
      "20:59:10.279     connection.Connection    INFO  Connecting to 10.28.0.76:443 for Vector-W6X1 using /Users/cfalguiere/.anki_vector/Vector-W6X1-00303453.cert\n",
      "20:59:10.623     connection.Connection    INFO  BehaviorControl control_granted_response { }\n"
     ]
    },
    {
     "name": "stdout",
     "output_type": "stream",
     "text": [
      "Vector SDK has behavior control...\n",
      "Drive Vector straight until he reaches cliff...\n"
     ]
    },
    {
     "name": "stderr",
     "output_type": "stream",
     "text": [
      "20:59:27.852     connection.Connection    INFO  BehaviorControl control_lost_event { }\n",
      "20:59:27.856    util.BehaviorComponent    INFO  Delaying drive_straight until behavior control is granted\n"
     ]
    },
    {
     "name": "stdout",
     "output_type": "stream",
     "text": [
      "Lost SDK behavior control. Request SDK behavior control again...\n",
      "Drive Vector backward away from the cliff...\n"
     ]
    },
    {
     "name": "stderr",
     "output_type": "stream",
     "text": [
      "20:59:32.349     connection.Connection    INFO  BehaviorControl control_granted_response { }\n",
      "20:59:34.342    util.BehaviorComponent WARNING  drive_straight cancelled because behavior control was lost\n",
      "20:59:34.343     connection.Connection    INFO  BehaviorControl control_lost_event { }\n",
      "20:59:34.345    util.BehaviorComponent    INFO  Delaying _abort until behavior control is granted\n",
      "20:59:34.347      util.VisionComponent    INFO  Delaying disable_all_vision_modes until behavior control is granted\n",
      "20:59:34.688     connection.Connection    INFO  BehaviorControl control_granted_response { }\n"
     ]
    }
   ],
   "source": [
    "import anki_vector\n",
    "from anki_vector.util import distance_mm, speed_mmps\n",
    "\n",
    "with anki_vector.Robot() as robot:\n",
    "    print(\"Vector SDK has behavior control...\")\n",
    "    robot.behavior.drive_off_charger()\n",
    "\n",
    "    print(\"Drive Vector straight until he reaches cliff...\")\n",
    "    # Once robot reaches cliff, he will play his typical cliff reactions.\n",
    "    robot.behavior.drive_straight(distance_mm(5000), speed_mmps(100))\n",
    "\n",
    "    robot.conn.run_coroutine(robot.conn.control_lost_event.wait()).result()\n",
    "\n",
    "    print(\"Lost SDK behavior control. Request SDK behavior control again...\")\n",
    "    robot.conn.request_control()\n",
    "\n",
    "    print(\"Drive Vector backward away from the cliff...\")\n",
    "    robot.behavior.drive_straight(distance_mm(-300), speed_mmps(100))\n"
   ]
  }
 ],
 "metadata": {
  "kernelspec": {
   "display_name": "Python 3",
   "language": "python",
   "name": "python3"
  },
  "language_info": {
   "codemirror_mode": {
    "name": "ipython",
    "version": 3
   },
   "file_extension": ".py",
   "mimetype": "text/x-python",
   "name": "python",
   "nbconvert_exporter": "python",
   "pygments_lexer": "ipython3",
   "version": "3.6.8"
  },
  "tags": [
   "hide_input"
  ]
 },
 "nbformat": 4,
 "nbformat_minor": 2
}
