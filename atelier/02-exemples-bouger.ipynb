{
 "cells": [
  {
   "cell_type": "markdown",
   "metadata": {},
   "source": [
    "# Faire bouger Vector\n",
    "\n",
    "Cette suite d'exemples va te montrer comment utiliser les fonctions de déplacement et les moteurs de Vector.\n",
    "\n",
    "Ce document contient des cellules grises pour le code et des instructions.\n",
    "\n",
    "Pour lancer les programmes dans les cellules grises, il faut \n",
    "- sélectionner la cellule avec la souris (une barre verte apparaît sur le côté)\n",
    "- puis utiliser le bouton *Run* dans le menu en haut ou la combinaison de touches Ctrl+Enter. Il faut appuyer en même temps sur les touches Ctrl (ou control) et Enter (ou Entrée ou &#8629;) "
   ]
  },
  {
   "cell_type": "markdown",
   "metadata": {},
   "source": [
    "## 1 - Démo trajet en carré\n",
    "\n",
    "Le code suivant déplace Vector sur un carré. Pour chaque côté, le robot avance de 20 cm puis tourne de 90 degrés à gauche.\n",
    "\n",
    "Pose le robot sur le chargeur assure toi qu'il a suffisement de place devant lui et sur les côtés et lance le programme avec le bouton Run ou Ctrl+Enter.\n"
   ]
  },
  {
   "cell_type": "code",
   "execution_count": null,
   "metadata": {},
   "outputs": [],
   "source": [
    "import anki_vector\n",
    "from anki_vector.util import degrees, distance_mm, speed_mmps\n",
    "\n",
    "# The robot drives straight, stops and then turns around\n",
    "with anki_vector.Robot() as robot:\n",
    "    robot.behavior.drive_off_charger()\n",
    "\n",
    "    # Use a \"for loop\" to repeat the indented code 4 times\n",
    "    # Note: the _ variable name can be used when you don't need the value\n",
    "    for _ in range(4):\n",
    "        print(\"Avance tout droit ...\")\n",
    "        robot.behavior.drive_straight(distance_mm(200), speed_mmps(50))\n",
    "\n",
    "        print(\"Touorne sur place ...\")\n",
    "        robot.behavior.turn_in_place(degrees(90))\n",
    "\n",
    "print(\"C'est fait !\")\n"
   ]
  },
  {
   "cell_type": "markdown",
   "metadata": {},
   "source": [
    "## 2 - Dessine un triangle\n",
    "\n",
    "Pour cela\n",
    "\n",
    "- Copie/colle le bloc for du code précédent\n",
    "\n",
    "- Adapte les instructions pour qu'il dessine un triangle. Un triangle a 3 côtés au lieu de 4 et donc des angles de 120 degré au lieu de 90 (360/3)"
   ]
  },
  {
   "cell_type": "code",
   "execution_count": null,
   "metadata": {},
   "outputs": [],
   "source": [
    "import anki_vector\n",
    "from anki_vector.util import degrees, distance_mm, speed_mmps\n",
    "\n",
    "# The robot drives straight, stops and then turns around\n",
    "with anki_vector.Robot() as robot:\n",
    "    # complète le programme\n",
    "    _____\n",
    "    \n",
    "print(\"C'est fait !\")"
   ]
  },
  {
   "cell_type": "markdown",
   "metadata": {},
   "source": [
    "## 3 - Parcours\n",
    "\n",
    "Crée un programme qui recule et tourne à droite.\n",
    "\n",
    "Pour cela\n",
    "\n",
    "- Copie/coller les instructions *robot.behavior.drive_straight* et *robot.behavior.turn_in_place* de l'exemple précédent\n",
    "\n",
    "- Adapte *robot.behavior.drive_straight* pour qu'il recule \n",
    "\n",
    "- Adapte *robot.behavior.turn_in_place* pour qu'il tourne à droite "
   ]
  },
  {
   "cell_type": "code",
   "execution_count": null,
   "metadata": {},
   "outputs": [],
   "source": [
    "import anki_vector\n",
    "from anki_vector.util import degrees, distance_mm, speed_mmps\n",
    "\n",
    "# The robot drives straight, stops and then turns around\n",
    "with anki_vector.Robot() as robot:\n",
    "    # complète le programme\n",
    "    ______\n",
    "\n",
    "print(\"C'est fait !\")\n"
   ]
  },
  {
   "cell_type": "markdown",
   "metadata": {},
   "source": [
    "## 4 - Démo 2 \n",
    "\n",
    "Le code suivant contrôle directement les différents moteurs, ceux des roues, de la tête et du bras.\n",
    "\n",
    "Pose le robot sur le chargeur et lance la démo avec le bouton Run ou Ctrl+Enter.\n"
   ]
  },
  {
   "cell_type": "code",
   "execution_count": null,
   "metadata": {},
   "outputs": [],
   "source": [
    "\"\"\"Drive Vector's wheels, lift and head motors directly\n",
    "\n",
    "This is an example of how you can also have low-level control of Vector's motors\n",
    "(wheels, lift and head) for fine-grained control and ease of controlling\n",
    "multiple things at once.\n",
    "\"\"\"\n",
    "import anki_vector\n",
    "import time\n",
    "with anki_vector.Robot() as robot:\n",
    "    robot.behavior.drive_off_charger()\n",
    "\n",
    "    # Tell the head motor to start lowering the head (at 5 radians per second)\n",
    "    print(\"Baisse la tête de Vector ...\")\n",
    "    robot.motors.set_head_motor(-5.0)\n",
    "\n",
    "    # Tell the lift motor to start lowering the lift (at 5 radians per second)\n",
    "    print(\"Baisse le bras de Vector ...\")\n",
    "    robot.motors.set_lift_motor(-5.0)\n",
    "\n",
    "    # Tell Vector to drive the left wheel at 25 mmps (millimeters per second),\n",
    "    # and the right wheel at 50 mmps (so Vector will drive Forwards while also\n",
    "    # turning to the left\n",
    "    print(\"Règle les roues pour avancer en tournant à gauche ...\")\n",
    "    robot.motors.set_wheel_motors(25, 50)\n",
    "\n",
    "    # wait for 3 seconds (the head, lift and wheels will move while we wait)\n",
    "    time.sleep(3)\n",
    "\n",
    "    # Tell the head motor to start raising the head (at 5 radians per second)\n",
    "    print(\"Relève la tête de Vector ...\")\n",
    "    robot.motors.set_head_motor(5)\n",
    "\n",
    "    # Tell the lift motor to start raising the lift (at 5 radians per second)\n",
    "    print(\"Relève le bras de Vector ....\")\n",
    "    robot.motors.set_lift_motor(5)\n",
    "\n",
    "    # Tell Vector to drive the left wheel at 50 mmps (millimeters per second),\n",
    "    # and the right wheel at -50 mmps (so Vector will turn in-place to the right)\n",
    "    print(\"Règle les roues pour tourner sur place ...\")\n",
    "    robot.motors.set_wheel_motors(50, -50)\n",
    "\n",
    "    # Wait for 3 seconds (the head, lift and wheels will move while we wait)\n",
    "    time.sleep(3)\n",
    "\n",
    "    # Stop the motors, which unlocks the tracks\n",
    "    robot.motors.set_wheel_motors(0, 0)\n",
    "    robot.motors.set_lift_motor(0)\n",
    "    robot.motors.set_head_motor(0)\n",
    "\n",
    "print(\"C'est fait !\")\n"
   ]
  },
  {
   "cell_type": "markdown",
   "metadata": {},
   "source": [
    "## 5 - Bouger la tête\n",
    "\n",
    "Le programme suivant lève et baisse la tête du robot.\n",
    "\n",
    "La commande démarre le moteur à une vitesse donnée. Le mouvement continue jusqu'à une autre commande du même moteur ou l'arrêt.\n",
    "- Les valeurs positives (comme 5) déplacent la tête vers le haut. Les valeurs positives déplacent la tête vers le bas.\n",
    "- la valeurs 5.0 est un nombre décimal (noté 5,0 en français).\n",
    "\n",
    "La dernière ligne arrête le moteur."
   ]
  },
  {
   "cell_type": "code",
   "execution_count": null,
   "metadata": {},
   "outputs": [],
   "source": [
    "import anki_vector\n",
    "import time\n",
    "with anki_vector.Robot() as robot:\n",
    "    print(\"Vector lève la tête pendanr 3 secondes ...\")\n",
    "    robot.motors.set_head_motor(5.0)    \n",
    "    # attend 3 secondes pendant que le moteur bouge\n",
    "    time.sleep(3)\n",
    "    \n",
    "    print(\"Vector baisse la tête pendanr 3 secondes ...\")\n",
    "    robot.motors.set_head_motor(-5.0)\n",
    "    # attend 3 secondes pendant que le moteur bouge\n",
    "    time.sleep(3)\n",
    "    \n",
    "    print(\"Vector arrête le moteur de la tête ...\")\n",
    "    robot.motors.set_head_motor(0)\n",
    "\n",
    "print('Done')\n"
   ]
  },
  {
   "cell_type": "markdown",
   "metadata": {},
   "source": [
    "## 6 - Bouger le bras\n",
    "\n",
    "Le programme suivant lève et baisse le bras du robot.\n",
    "\n",
    "La commande démarre le moteur à une vitesse donnée. Le mouvement continue jusqu'à une autre commande du même moteur ou l'arrêt.\n",
    "- Les valeurs positives (comme 5) déplacent le bras vers le haut. Les valeurs positives déplacent le bras vers le bas.\n",
    "- la valeurs 5.0 est un nombre décimal (noté 5,0 en français).\n",
    "\n",
    "La dernière ligne arrête le moteur."
   ]
  },
  {
   "cell_type": "code",
   "execution_count": null,
   "metadata": {},
   "outputs": [],
   "source": [
    "import anki_vector\n",
    "import time\n",
    "with anki_vector.Robot() as robot:\n",
    "    print(\"Vector lève le bras ...\")\n",
    "    robot.motors.set_lift_motor(5.0)    \n",
    "    # attend 3 secondes pendant que le moteur bouge\n",
    "    time.sleep(3)\n",
    "    \n",
    "    print(\"Vector baisse le bras ...\")\n",
    "    robot.motors.set_lift_motor(-5.0)\n",
    "    # attend 3 secondes pendant que le moteur bouge\n",
    "    time.sleep(3)\n",
    "    \n",
    "    print(\"Vector arrête le moteur du bras ...\")\n",
    "    robot.motors.set_lift_motor(0)\n",
    "\n",
    "print(\"C'est fait !\")\n",
    "   "
   ]
  },
  {
   "cell_type": "markdown",
   "metadata": {},
   "source": [
    "## 9 - Bouger les roues\n",
    "\n",
    "Le programme suivant actionne les moteurs des roues. \n",
    "\n",
    "Le comportement est similaire à *robot.behavior.drive_straight* et *robot.behavior.turn_in_place* avec un contrôle plus fin. \n",
    "    \n",
    "Les moteurs de gauche et de droite peuvent être commandés séparément. \n",
    "- Le premier paramètre indique la vitesse du moteur gauche\n",
    "- le second paramètre indique la vitesse du moteur droit\n",
    "- si la vitesse est la même le robot va tout droit\n",
    "- si les vitesses sont différentes, le robot tourne du côté le plus lent. \n",
    "- si la vitesse est négative, le robot recule\n",
    "\n",
    "La dernière ligne arrête le moteur."
   ]
  },
  {
   "cell_type": "code",
   "execution_count": null,
   "metadata": {},
   "outputs": [],
   "source": [
    "import anki_vector\n",
    "import time\n",
    "with anki_vector.Robot() as robot:\n",
    "    print(\"Vector avance tout droit pendant 3 secondes ...\")\n",
    "    robot.motors.set_wheel_motors(50, 50)\n",
    "    # attend 3 secondes pendant que le moteur bouge\n",
    "    time.sleep(3)\n",
    "    \n",
    "    print(\"Vector recule tout droit pendant 3 secondes ...\")\n",
    "    robot.motors.set_wheel_motors(-50, -50)\n",
    "    # attend 3 secondes pendant que le moteur bouge\n",
    "    time.sleep(3)\n",
    "    \n",
    "    print(\"Vector tourne à gauche pendant 3 secondes ...\")\n",
    "    robot.motors.set_wheel_motors(25, 50)\n",
    "    # attend 3 secondes pendant que le moteur bouge\n",
    "    time.sleep(3)\n",
    "    \n",
    "    print(\"Vector tourne sur place pendant 3 secondes ...\")\n",
    "    robot.motors.set_wheel_motors(50, -50)\n",
    "    # attend 3 secondes pendant que le moteur bouge\n",
    "    time.sleep(3)\n",
    "\n",
    "    print(\"Vector arrête le moteur des roues ...\")\n",
    "    robot.motors.set_lift_motor(0)\n",
    "\n",
    "print(\"C'est fait !\")"
   ]
  },
  {
   "cell_type": "markdown",
   "metadata": {},
   "source": [
    "## 10 - A ton tour\n",
    "\n",
    "En suivant les exemples, fait un programme qui\n",
    "- avance pendant 3 secondes avec la tête et le bras en position haute\n",
    "- recule pendant 3 secondes avec la tête et le bras en position basse\n"
   ]
  },
  {
   "cell_type": "code",
   "execution_count": null,
   "metadata": {},
   "outputs": [],
   "source": [
    "import anki_vector\n",
    "import time\n",
    "with anki_vector.Robot() as robot:\n",
    "     # complète le programme\n",
    "    ______\n",
    "\n",
    "print(\"C'est fait !\")"
   ]
  }
 ],
 "metadata": {
  "kernelspec": {
   "display_name": "Python 3",
   "language": "python",
   "name": "python3"
  },
  "language_info": {
   "codemirror_mode": {
    "name": "ipython",
    "version": 3
   },
   "file_extension": ".py",
   "mimetype": "text/x-python",
   "name": "python",
   "nbconvert_exporter": "python",
   "pygments_lexer": "ipython3",
   "version": "3.6.8"
  },
  "tags": [
   "hide_input"
  ]
 },
 "nbformat": 4,
 "nbformat_minor": 2
}
