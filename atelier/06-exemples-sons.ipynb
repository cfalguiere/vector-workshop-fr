{
 "cells": [
  {
   "cell_type": "markdown",
   "metadata": {},
   "source": [
    "# Jouer des sons avec Vector\n",
    "\n",
    "Cette suite d'exemples va te montrer comment utiliser Vector pour jouer des sons.\n",
    "\n",
    "Ce document contient des cellules grises pour le code et des instructions.\n",
    "\n",
    "Pour lancer les programmes dans les cellules grises, il faut \n",
    "- sélectionner la cellule avec la souris (une barre verte apparaît sur le côté)\n",
    "- puis utiliser le bouton *Run* dans le menu en haut ou la combinaison de touches Ctrl+Enter. Il faut appuyer en même temps sur les touches Ctrl (ou control) et Enter (ou Entrée ou &#8629;) "
   ]
  },
  {
   "cell_type": "markdown",
   "metadata": {},
   "source": [
    "## 2 - Jouer un son"
   ]
  },
  {
   "cell_type": "code",
   "execution_count": null,
   "metadata": {},
   "outputs": [],
   "source": [
    "\"\"\"\n",
    "Play audio files through Vector's speaker.\n",
    "\"\"\"\n",
    "import os\n",
    "import anki_vector\n",
    "with anki_vector.Robot() as robot:\n",
    "    # You can find these sounds files here:\n",
    "    # https://github.com/anki/vector-python-sdk/blob/master/examples/sounds/vector_alert.wav\n",
    "    # https://github.com/anki/vector-python-sdk/blob/master/examples/sounds/vector_bell_whistle.wav\n",
    "    #\n",
    "    # Paste these two wav files next to this tutorial to play sounds.\n",
    "    sound_path = os.path.join(os.getcwd(), \"sounds\", \"vector_bell_whistle.wav\")\n",
    "    robot.audio.stream_wav_file(sound_path, 75)\n",
    "    sound_path = os.path.join(os.getcwd(), \"sounds\", \"vector_alert.wav\")\n",
    "    robot.audio.stream_wav_file(sound_path, 75)\n"
   ]
  }
 ],
 "metadata": {
  "kernelspec": {
   "display_name": "Python 3",
   "language": "python",
   "name": "python3"
  },
  "language_info": {
   "codemirror_mode": {
    "name": "ipython",
    "version": 3
   },
   "file_extension": ".py",
   "mimetype": "text/x-python",
   "name": "python",
   "nbconvert_exporter": "python",
   "pygments_lexer": "ipython3",
   "version": "3.6.8"
  },
  "tags": [
   "hide_input"
  ]
 },
 "nbformat": 4,
 "nbformat_minor": 2
}
