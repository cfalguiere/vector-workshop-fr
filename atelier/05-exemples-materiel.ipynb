{
 "cells": [
  {
   "cell_type": "markdown",
   "metadata": {},
   "source": [
    "# Utiliser le chargeur et le cube de Vector\n",
    "\n",
    "Cette suite d'exemples va te montrer comment utiliser le chargeur et le cube de Vector.\n",
    "\n",
    "Ce document contient des cellules grises pour le code et des instructions.\n",
    "\n",
    "Pour lancer les programmes dans les cellules grises, il faut \n",
    "- sélectionner la cellule avec la souris (une barre verte apparaît sur le côté)\n",
    "- puis utiliser le bouton *Run* dans le menu en haut ou la combinaison de touches Ctrl+Enter. Il faut appuyer en même temps sur les touches Ctrl (ou control) et Enter (ou Entrée ou &#8629;) "
   ]
  },
  {
   "cell_type": "markdown",
   "metadata": {},
   "source": [
    "## 1 - Rentrer sur le chargeur et sortir du chargeur\n",
    "\n",
    "Place le chargeur à un endroit accessible et le robot hors du chargeur à 20 cm devant, et ensuite lance le programme."
   ]
  },
  {
   "cell_type": "code",
   "execution_count": null,
   "metadata": {},
   "outputs": [],
   "source": [
    "\"\"\"Tell Vector to drive on and off the charger. \"\"\"\n",
    "import anki_vector \n",
    "\n",
    "with anki_vector.Robot() as robot:\n",
    "    print(\"Conduit Vector sur le chargeur ...\")\n",
    "    robot.behavior.drive_on_charger()\n",
    "    robot.behavior.say_text(\"On the charger\")\n",
    "\n",
    "    print(\"Conduit Vector hors du charger...\")\n",
    "    robot.behavior.drive_off_charger()\n",
    "    robot.behavior.say_text(\"Off the charger\")\n",
    "\n",
    "print(\"C'est fait !\")\n"
   ]
  },
  {
   "cell_type": "markdown",
   "metadata": {},
   "source": [
    "## 2 - Utiliser le cube"
   ]
  },
  {
   "cell_type": "code",
   "execution_count": null,
   "metadata": {},
   "outputs": [],
   "source": [
    "\"\"\"Tell Vector to drive up to a seen cube.\n",
    "\n",
    "This example demonstrates Vector driving to and docking with a cube, without picking it up. Vector will line his arm hooks up with the cube so that they are inserted into the cube's corners.\n",
    "\n",
    "You must place a cube in front of Vector so that he can see it. \"\"\"\n",
    "\n",
    "import anki_vector\n",
    "from anki_vector.util import degrees\n",
    "\n",
    "docking_result = None\n",
    "with anki_vector.Robot() as robot:\n",
    "    robot.behavior.drive_off_charger()\n",
    "\n",
    "    # If necessary, move Vector's Head and Lift down\n",
    "    robot.behavior.set_head_angle(degrees(-5.0))\n",
    "    robot.behavior.set_lift_height(0.0)\n",
    "\n",
    "    print(\"Connecting to a cube...\")\n",
    "    robot.world.connect_cube()\n",
    "\n",
    "    if robot.world.connected_light_cube:\n",
    "        print(\"Begin cube docking...\")\n",
    "        dock_response = robot.behavior.dock_with_cube(\n",
    "            robot.world.connected_light_cube,\n",
    "            num_retries=3)\n",
    "        if dock_response:\n",
    "            docking_result = dock_response.result\n",
    "\n",
    "        robot.world.disconnect_cube()\n",
    "\n",
    "if docking_result:\n",
    "    if docking_result.code != anki_vector.messaging.protocol.ActionResult.ACTION_RESULT_SUCCESS:\n",
    "        print(\"Cube docking failed with code {0} ({1})\".format(str(docking_result).rstrip('\\n\\r'), docking_result.code))\n",
    "else:\n",
    "    print(\"Cube docking failed.\")\n",
    "\n",
    "print(\"C'est fait !\")\n"
   ]
  },
  {
   "cell_type": "markdown",
   "metadata": {},
   "source": [
    "## 3 - Changer les couleurs du cube"
   ]
  },
  {
   "cell_type": "code",
   "execution_count": null,
   "metadata": {},
   "outputs": [],
   "source": [
    "\"\"\"Tell Vector to drive up to a seen cube.\n",
    "\n",
    "This example demonstrates Vector driving to and docking with a cube, \n",
    "without picking it up. Vector will line his arm hooks up with the cube so that they are inserted into the cube's corners.\n",
    "\n",
    "You must place a cube in front of Vector so that he can see it. \"\"\"\n",
    "\n",
    "import anki_vector\n",
    "from anki_vector.util import degrees\n",
    "import time\n",
    "\n",
    "with anki_vector.Robot() as robot:\n",
    "    robot.behavior.drive_off_charger()\n",
    "\n",
    "    # If necessary, move Vector's Head and Lift down\n",
    "    robot.behavior.set_head_angle(degrees(-5.0))\n",
    "    robot.behavior.set_lift_height(0.0)\n",
    "\n",
    "    print(\"Connecting to a cube...\")\n",
    "    robot.world.connect_cube()\n",
    "    if robot.world.connected_light_cube:\n",
    "        cube = robot.world.connected_light_cube\n",
    "\n",
    "        if cube.is_connected:\n",
    "            print(\"Flashing LightCube ...\")\n",
    "            robot.world.flash_cube_lights()\n",
    "            time.sleep(3)\n",
    "\n",
    "            print(\"Yellow lights\")\n",
    "            # Set cube lights to yellow\n",
    "            cube.set_lights(anki_vector.lights.yellow_light)\n",
    "            time.sleep(3)\n",
    "\n",
    "            print(\"4 lights\")\n",
    "            cube.set_light_corners(anki_vector.lights.blue_light,\n",
    "                                   anki_vector.lights.green_light,\n",
    "                                   anki_vector.lights.red_light,\n",
    "                                   anki_vector.lights.white_light)\n",
    "            time.sleep(3)\n",
    "            cube.set_lights_off()\n",
    "\n",
    "        else:\n",
    "            print(\"LightCube isn't connected\")\n",
    "\n",
    "        robot.world.disconnect_cube()\n",
    "\n",
    "print(\"C'est fait !\")\n"
   ]
  }
 ],
 "metadata": {
  "kernelspec": {
   "display_name": "Python 3",
   "language": "python",
   "name": "python3"
  },
  "language_info": {
   "codemirror_mode": {
    "name": "ipython",
    "version": 3
   },
   "file_extension": ".py",
   "mimetype": "text/x-python",
   "name": "python",
   "nbconvert_exporter": "python",
   "pygments_lexer": "ipython3",
   "version": "3.6.8"
  },
  "tags": [
   "hide_input"
  ]
 },
 "nbformat": 4,
 "nbformat_minor": 2
}
