{
 "cells": [
  {
   "cell_type": "markdown",
   "metadata": {},
   "source": [
    "# Faire parler Vector\n",
    "\n",
    "Cette suite d'exemples va te montrer comment faire parler Vector.\n",
    "\n",
    "Ce document contient des cellules grises pour le code et des instructions.\n",
    "\n",
    "Pour lancer les programmes dans les cellules grises, il faut \n",
    "- sélectionner la cellule avec la souris (une barre verte apparaît sur le côté)\n",
    "- puis utiliser le bouton *Run* dans le menu en haut ou la combinaison de touches Ctrl+Enter. Il faut appuyer en même temps sur les touches Ctrl (ou control) et Enter (ou Entrée ou &#8629;) "
   ]
  },
  {
   "cell_type": "markdown",
   "metadata": {},
   "source": [
    "## 1 - Démo Hello\n",
    "Le premier exemple est très simple. Il va permettre de vérifier que le robot est connecté. \n",
    "Le but est de se connecter au robot et lui demander de dire \"Hello World\". Les lignes commençant par print affichent simplement des informations pour aider à comprendre où en est le programme.\n",
    "\n",
    "Utilise le bouton Run ou les touches Ctrl+Entrée pour faire tourner ce programme."
   ]
  },
  {
   "cell_type": "code",
   "execution_count": 2,
   "metadata": {
    "scrolled": false
   },
   "outputs": [
    {
     "name": "stderr",
     "output_type": "stream",
     "text": [
      "19:38:30.004               robot.Robot WARNING  No serial number or name provided. Automatically selecting 00303453\n",
      "19:38:30.006     connection.Connection    INFO  Connecting to 10.28.0.76:443 for Vector-W6X1 using /Users/cfalguiere/.anki_vector/Vector-W6X1-00303453.cert\n",
      "19:38:30.382     connection.Connection    INFO  BehaviorControl control_granted_response { }\n"
     ]
    },
    {
     "name": "stdout",
     "output_type": "stream",
     "text": [
      "Say 'Hello World'...\n",
      "C'est fait !\n"
     ]
    }
   ],
   "source": [
    "import anki_vector\n",
    "with anki_vector.Robot() as robot:\n",
    "    print(\"Say 'Hello World'...\")\n",
    "    robot.behavior.say_text(\"Hello World\")\n",
    "\n",
    "print(\"C'est fait !\")\n"
   ]
  },
  {
   "cell_type": "markdown",
   "metadata": {},
   "source": [
    "Normalement le robot va dire Hello World et afficher ce qui suit :\n",
    "<pre style=\"background-color:#FFCCCC;\">\n",
    "20:15:47.903     connection.Connection    INFO  BehaviorControl control_granted_response { }\n",
    "</pre>\n",
    "```\n",
    "Say 'Hello World'...\n",
    "Done\n",
    "```\n",
    "Si c'est le cas, tout va bien !\n",
    "\n",
    "> Si ça affiche autre chose demande à un animateur de vérifier la configuration\n"
   ]
  },
  {
   "cell_type": "markdown",
   "metadata": {},
   "source": [
    "## 2 - Fait parler Vector\n",
    "\n",
    "Maintenant qu'on a vu le programme fonctionner, tu peux faire ta propre version.\n",
    "\n",
    "Remplace les ______ par ton propre texte. Attention, il ne parle qu'en anglais.\n",
    "\n",
    "Puis utilise le bouton Run ou les touches Ctrl+Entrée pour faire tourner ce programme."
   ]
  },
  {
   "cell_type": "code",
   "execution_count": null,
   "metadata": {
    "scrolled": true
   },
   "outputs": [],
   "source": [
    "import anki_vector\n",
    "with anki_vector.Robot() as robot:\n",
    "    print( ____ )\n",
    "    robot.behavior.say_text( ____ )\n",
    "\n",
    "print(\"C'est fait !\")"
   ]
  },
  {
   "cell_type": "markdown",
   "metadata": {},
   "source": [
    "## 3 -  Fait ton propre programme\n",
    "En utilant les exemples de code ci-dessus tu peux maintenant faire ton propre programme.\n",
    "\n",
    "Pour cela\n",
    "\n",
    "- Crée une nouvelle cellule par le bouton +\n",
    "\n",
    "- Copie/coller le bloc de code précédent\n",
    "\n",
    "- Adapte le pour qu'il dise plusieurs phases, par exemple \"Hello\", \"I'm Vector\", \"What is your name ?\". Pour cela, il faudra copier plusieurs fois la ligne robot.behavior.say_text( ______ )"
   ]
  },
  {
   "cell_type": "markdown",
   "metadata": {},
   "source": [
    "Si tu veux comprendre en détail le programme passe à la partie suivante. \n",
    "\n",
    "Sinon ferme ce notebook et ouvre le notebook 02."
   ]
  },
  {
   "cell_type": "markdown",
   "metadata": {},
   "source": [
    "## 4 - Comprendre le progremme (Optionnel)\n",
    "\n",
    "Ce programme comporte peu de lignes mais il y a beaucoup à apprendre.\n",
    "\n",
    "Comment est fait ce programme ?\n",
    "\n"
   ]
  },
  {
   "cell_type": "markdown",
   "metadata": {},
   "source": [
    "- la ligne *import anki_vector* demande de charger un composant *anki_vector*. Ce composant contient les fonctions du robot comme say_text()."
   ]
  },
  {
   "cell_type": "code",
   "execution_count": null,
   "metadata": {},
   "outputs": [],
   "source": [
    "import anki_vector"
   ]
  },
  {
   "cell_type": "markdown",
   "metadata": {},
   "source": [
    "- la ligne *anki_vector.Robot(config=config_data) as robot:* crée un objet *robot* par lequel on va agir sur ke robo. Cet objet est de type *Robot* et on lui passe en paramètre *config_data* la configuration qu'on a lue dans la cellule précédente. En Python, on passe des paramètres à la fonction en les mettant dans les parenthèses ()\n",
    "- le : indique que l'on commence un bloc. Les lignes qui suivent sont dans le bloc et sont toutes décallées de 4 espaces. On appele ce décallage une indentation. Attention, toutes les lignes du bloc doivent être alignées et donc indentées de la même manière "
   ]
  },
  {
   "cell_type": "code",
   "execution_count": null,
   "metadata": {},
   "outputs": [],
   "source": [
    "with anki_vector.Robot() as robot:"
   ]
  },
  {
   "cell_type": "markdown",
   "metadata": {},
   "source": [
    "- la ligne *print(\"Say 'Hello World'...\")* utilise la fonction Python *print* pour afficher le texte passé en parammètre (\"Say 'Hello World'...\"). Note que la phrase est entre des \" (doubles quotes)"
   ]
  },
  {
   "cell_type": "code",
   "execution_count": null,
   "metadata": {},
   "outputs": [],
   "source": [
    "print(\"Say 'Hello World'...\")"
   ]
  },
  {
   "cell_type": "markdown",
   "metadata": {},
   "source": [
    "- la ligne *robot.behavior.say_text(\"Hello World\")* utilise l'objet *robot*. L'action demandée est la fonction *say_text*. Comme il y a beaucoup de fonctions, elles sont classées dans des modules. Ici, la fonction est dans le module *behavior* (qui veut dire comportement en anglais). Le . séparer les indications. On va donc demander dans *robot* dans *behavior* la fonction *say_text*. Le paramètre passé à la fonction entre parenthèse est le texte à dire.\n"
   ]
  },
  {
   "cell_type": "code",
   "execution_count": null,
   "metadata": {},
   "outputs": [],
   "source": [
    "robot.behavior.say_text(\"Hello World\")"
   ]
  },
  {
   "cell_type": "markdown",
   "metadata": {},
   "source": [
    "- la ligne *print(\"C'est fait !\")* indique que le programme est terminé. Prend note du fait que cette ligne est indenté de 0 caractère. On est sorti du bloc commencé dans with ... :. En Python, le niveau d'indentation indique dans quel bloc on se trouve. "
   ]
  },
  {
   "cell_type": "code",
   "execution_count": null,
   "metadata": {},
   "outputs": [],
   "source": [
    "print(\"C'est fait !\")"
   ]
  }
 ],
 "metadata": {
  "kernelspec": {
   "display_name": "Python 3",
   "language": "python",
   "name": "python3"
  },
  "language_info": {
   "codemirror_mode": {
    "name": "ipython",
    "version": 3
   },
   "file_extension": ".py",
   "mimetype": "text/x-python",
   "name": "python",
   "nbconvert_exporter": "python",
   "pygments_lexer": "ipython3",
   "version": "3.6.8"
  }
 },
 "nbformat": 4,
 "nbformat_minor": 2
}
